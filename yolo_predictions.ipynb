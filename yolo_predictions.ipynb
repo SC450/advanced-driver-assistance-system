{
 "cells": [
  {
   "cell_type": "markdown",
   "metadata": {},
   "source": [
    "### YOLO Predictions"
   ]
  },
  {
   "cell_type": "code",
   "execution_count": 1,
   "metadata": {},
   "outputs": [],
   "source": [
    "# Imports\n",
    "import cv2 as cv\n",
    "import numpy as np\n",
    "import os\n",
    "import yaml\n",
    "from yaml.loader import SafeLoader"
   ]
  },
  {
   "cell_type": "code",
   "execution_count": 2,
   "metadata": {},
   "outputs": [
    {
     "name": "stdout",
     "output_type": "stream",
     "text": [
      "['Person', 'Car', 'Truck', 'Semi', 'RedLight', 'YellowLight', 'GreenLight', 'WaitLight', 'StopSign', 'SpeedLimitSign']\n"
     ]
    }
   ],
   "source": [
    "# Load YAML\n",
    "with open(\"data.yaml\", mode=\"r\") as f:\n",
    "    data_yaml = yaml.load(f, Loader=SafeLoader)\n",
    "\n",
    "labels = data_yaml[\"names\"]\n",
    "print(labels)"
   ]
  },
  {
   "cell_type": "code",
   "execution_count": 3,
   "metadata": {},
   "outputs": [],
   "source": [
    "# Load YOLO Model\n",
    "yolo = cv.dnn.readNetFromONNX(\"Model/weights/v1_best.onnx\")\n",
    "yolo.setPreferableBackend(cv.dnn.DNN_BACKEND_OPENCV)\n",
    "yolo.setPreferableTarget(cv.dnn.DNN_TARGET_CPU)"
   ]
  },
  {
   "cell_type": "code",
   "execution_count": 4,
   "metadata": {},
   "outputs": [],
   "source": [
    "# Load an image and get predictions of the YOLO Model\n",
    "img = cv.imread(\"test_image_1.jpg\")\n",
    "img_pred = img.copy()\n",
    "row, col, d = img_pred.shape\n",
    "\n",
    "# Get the YOLO prediction from the image\n",
    "# First, convert image to square image\n",
    "max_rc = max(row, col)\n",
    "input_image = np.zeros((max_rc, max_rc, 3), dtype=np.uint8)\n",
    "input_image[0:row, 0:col] = img_pred\n",
    "\n",
    "# Then, get predictions from square array\n",
    "INPUT_WH_YOLO = 640\n",
    "blob = cv.dnn.blobFromImage(input_image, 1/255, (INPUT_WH_YOLO, INPUT_WH_YOLO), swapRB=True, crop=False)\n",
    "yolo.setInput(blob)\n",
    "preds = yolo.forward() # Get predictions from YOLO Model"
   ]
  },
  {
   "cell_type": "code",
   "execution_count": 5,
   "metadata": {},
   "outputs": [
    {
     "name": "stdout",
     "output_type": "stream",
     "text": [
      "(1, 25200, 10)\n"
     ]
    }
   ],
   "source": [
    "print(preds.shape)"
   ]
  },
  {
   "cell_type": "code",
   "execution_count": 6,
   "metadata": {},
   "outputs": [],
   "source": [
    "# Non Maximum Supression\n",
    "# Step 1: Filter detections based on confidence score and probability score\n",
    "CONFIDENCE_THRESHOLD = 0.4\n",
    "PROBABILITY_THRESHOLD = 0.25\n",
    "detections = preds[0]\n",
    "boxes = []\n",
    "confidences = []\n",
    "classes = []\n",
    "\n",
    "# Calculate the width and height of the input image\n",
    "image_w, image_h = input_image.shape[:2]\n",
    "x_factor = image_w/INPUT_WH_YOLO\n",
    "y_factor = image_h/INPUT_WH_YOLO\n",
    "\n",
    "for i in range(len(detections)):\n",
    "    row = detections[i]\n",
    "    confidence = row[4] # Confidence is in the 5th column of the row\n",
    "    if confidence > CONFIDENCE_THRESHOLD:\n",
    "        class_score = row[5:].max() # Take the maximum probability of 10 objects possible\n",
    "        class_id = row[5:].argmax() # Get the index position at which maximum probability occurs\n",
    "\n",
    "        if class_score > PROBABILITY_THRESHOLD:\n",
    "            cx, cy, w, h = row[:4]\n",
    "\n",
    "            # Construct the bounding box from the four values\n",
    "            # Get left, top, width, and height\n",
    "            left = int((cx - 0.5 * w) * x_factor)\n",
    "            top = int((cy - 0.5 * h) * y_factor)\n",
    "            width = int(w * x_factor)\n",
    "            height = int(h * y_factor)\n",
    "\n",
    "            box = np.array([left, top, width, height])\n",
    "\n",
    "            # Append values into respective lists\n",
    "            confidences.append(confidence)\n",
    "            boxes.append(box)\n",
    "            classes.append(class_id)\n",
    "\n",
    "# Cleaning\n",
    "boxes_np = np.array(boxes).tolist()\n",
    "confidences_np = np.array(confidences).tolist()\n",
    "\n",
    "# Apply non-maximum suppression\n",
    "indexes = cv.dnn.NMSBoxes(boxes_np, confidences_np, 0.25, 0.45).flatten()"
   ]
  },
  {
   "cell_type": "code",
   "execution_count": 7,
   "metadata": {},
   "outputs": [
    {
     "data": {
      "text/plain": [
       "array([41, 39, 43, 46,  6], dtype=int32)"
      ]
     },
     "execution_count": 7,
     "metadata": {},
     "output_type": "execute_result"
    }
   ],
   "source": [
    "indexes"
   ]
  },
  {
   "cell_type": "code",
   "execution_count": 8,
   "metadata": {},
   "outputs": [],
   "source": [
    "# Draw the Bounding Box\n",
    "for i in indexes:\n",
    "    # Extract Bounding Boxes\n",
    "    x, y, w, h = boxes_np[i]\n",
    "    bb_conf = int(confidences_np[i] * 100)\n",
    "    class_id = classes[i]\n",
    "    class_name = labels[class_id]\n",
    "\n",
    "    text = f\"{class_name}: {bb_conf}%\"\n",
    "    \n",
    "    cv.rectangle(img_pred, (x, y), (x + w, y + h), (0, 255, 0), 2)\n",
    "    cv.rectangle(img_pred, (x, y - 30), (x + w, y), (255, 255, 255), -1)\n",
    "    cv.putText(img_pred, text, (x, y - 10), cv.FONT_HERSHEY_SIMPLEX, 0.7, (0, 0, 0), 1)"
   ]
  },
  {
   "cell_type": "code",
   "execution_count": 9,
   "metadata": {},
   "outputs": [
    {
     "name": "stderr",
     "output_type": "stream",
     "text": [
      "2025-01-04 20:02:49.942 Python[88581:23768336] +[IMKClient subclass]: chose IMKClient_Legacy\n",
      "2025-01-04 20:02:49.942 Python[88581:23768336] +[IMKInputSession subclass]: chose IMKInputSession_Legacy\n"
     ]
    },
    {
     "ename": "",
     "evalue": "",
     "output_type": "error",
     "traceback": [
      "\u001b[1;31mThe Kernel crashed while executing code in the current cell or a previous cell. \n",
      "\u001b[1;31mPlease review the code in the cell(s) to identify a possible cause of the failure. \n",
      "\u001b[1;31mClick <a href='https://aka.ms/vscodeJupyterKernelCrash'>here</a> for more info. \n",
      "\u001b[1;31mView Jupyter <a href='command:jupyter.viewOutput'>log</a> for further details."
     ]
    }
   ],
   "source": [
    "cv.imshow(\"Original Image\", img)\n",
    "cv.imshow(\"YOLO Predictions\", img_pred)\n",
    "cv.waitKey(0)\n",
    "cv.destroyAllWindows()"
   ]
  },
  {
   "cell_type": "code",
   "execution_count": null,
   "metadata": {},
   "outputs": [],
   "source": []
  }
 ],
 "metadata": {
  "kernelspec": {
   "display_name": "Python 3",
   "language": "python",
   "name": "python3"
  },
  "language_info": {
   "codemirror_mode": {
    "name": "ipython",
    "version": 3
   },
   "file_extension": ".py",
   "mimetype": "text/x-python",
   "name": "python",
   "nbconvert_exporter": "python",
   "pygments_lexer": "ipython3",
   "version": "3.11.5"
  }
 },
 "nbformat": 4,
 "nbformat_minor": 2
}
