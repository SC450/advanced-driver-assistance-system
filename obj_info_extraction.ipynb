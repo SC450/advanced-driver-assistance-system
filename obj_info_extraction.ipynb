{
 "cells": [
  {
   "cell_type": "code",
   "execution_count": 153,
   "metadata": {},
   "outputs": [],
   "source": [
    "# Imports\n",
    "import os\n",
    "import pandas as pd\n",
    "from glob import glob\n",
    "from functools import reduce\n",
    "from xml.etree import ElementTree as et\n",
    "from shutil import move"
   ]
  },
  {
   "cell_type": "code",
   "execution_count": 154,
   "metadata": {},
   "outputs": [
    {
     "name": "stdout",
     "output_type": "stream",
     "text": [
      "['labeled_image_data/157c26be-00595.xml', 'labeled_image_data/b695b399-00439.xml', 'labeled_image_data/d80257fd-00747.xml', 'labeled_image_data/ce40d81f-00279.xml', 'labeled_image_data/ed5069e6-00129.xml', 'labeled_image_data/36c4c908-00458.xml', 'labeled_image_data/652bb440-00441.xml', 'labeled_image_data/dcc0dc62-00329.xml', 'labeled_image_data/c22b1409-00234.xml', 'labeled_image_data/27d29b02-00735.xml', 'labeled_image_data/1f8f5442-00508.xml', 'labeled_image_data/126edbc5-00318.xml', 'labeled_image_data/60d13132-00430.xml', 'labeled_image_data/463cb35c-00453.xml', 'labeled_image_data/182f5fba-07649.xml', 'labeled_image_data/6d1f3135-07885.xml', 'labeled_image_data/08ba247e-00689.xml', 'labeled_image_data/e9a6a76a-00355.xml', 'labeled_image_data/126c5d13-00153.xml', 'labeled_image_data/83e49185-00798.xml', 'labeled_image_data/2d94aea5-00437.xml', 'labeled_image_data/cc03fb5b-00121.xml', 'labeled_image_data/0123dd72-00403.xml', 'labeled_image_data/3f0d495b-00131.xml', 'labeled_image_data/127c030d-00347.xml', 'labeled_image_data/c529b187-00523.xml', 'labeled_image_data/ec01cf2e-00492.xml', 'labeled_image_data/674eee93-00654.xml', 'labeled_image_data/5a137299-00507.xml', 'labeled_image_data/f73d355b-06769.xml', 'labeled_image_data/7bd9f00b-00126.xml', 'labeled_image_data/dd3e17d3-00626.xml', 'labeled_image_data/647e72b3-00246.xml', 'labeled_image_data/11e85dec-08036.xml', 'labeled_image_data/54d258cd-00606.xml', 'labeled_image_data/fb639386-05738.xml', 'labeled_image_data/2ef30aa8-00356.xml', 'labeled_image_data/762b8270-00557.xml', 'labeled_image_data/751aa0f8-00135.xml', 'labeled_image_data/273158b8-00272.xml', 'labeled_image_data/9b290521-00583.xml', 'labeled_image_data/cd4fb0bd-00696.xml', 'labeled_image_data/fb521c12-00599.xml', 'labeled_image_data/6637b7be-00257.xml', 'labeled_image_data/49c1d07f-00867.xml', 'labeled_image_data/fc6fa4d2-00703.xml', 'labeled_image_data/d189c765-04630.xml', 'labeled_image_data/d6db69c9-05260.xml', 'labeled_image_data/c237097c-00506.xml', 'labeled_image_data/7f843f8b-00426.xml', 'labeled_image_data/2ff0490d-00553.xml', 'labeled_image_data/f6a00cd6-00172.xml', 'labeled_image_data/6d19e156-00550.xml', 'labeled_image_data/882e8795-00873.xml', 'labeled_image_data/e79c10cf-00139.xml', 'labeled_image_data/489a79b4-00389.xml', 'labeled_image_data/5d7040ed-02094.xml', 'labeled_image_data/e4d4281e-00732.xml', 'labeled_image_data/0d2005fc-00585.xml', 'labeled_image_data/ac411f6f-00205.xml', 'labeled_image_data/10b55b67-00401.xml', 'labeled_image_data/616745cd-02916.xml', 'labeled_image_data/39df3cd9-02080.xml', 'labeled_image_data/6030d957-00717.xml', 'labeled_image_data/67377e0d-00144.xml', 'labeled_image_data/0fed57b5-00195.xml', 'labeled_image_data/3d09cadb-00130.xml', 'labeled_image_data/baa3128e-00762.xml', 'labeled_image_data/84ed7b28-00719.xml', 'labeled_image_data/7f45d570-00670.xml', 'labeled_image_data/daca64e2-00610.xml', 'labeled_image_data/ffca5b20-00684.xml', 'labeled_image_data/f62fd1c1-00460.xml', 'labeled_image_data/b0afb5a7-00370.xml', 'labeled_image_data/e9e9cc6b-00767.xml', 'labeled_image_data/264c638f-00273.xml', 'labeled_image_data/45bff2d0-00743.xml', 'labeled_image_data/91f93950-00537.xml', 'labeled_image_data/7717adcf-00495.xml', 'labeled_image_data/db011a78-04383.xml', 'labeled_image_data/dfdddc5d-00119.xml', 'labeled_image_data/1ae5ba51-00715.xml', 'labeled_image_data/06eb5574-00683.xml', 'labeled_image_data/8053c1b1-00760.xml', 'labeled_image_data/7e51e33a-00799.xml', 'labeled_image_data/67d51088-00415.xml', 'labeled_image_data/72853d02-00740.xml', 'labeled_image_data/19ded20f-00225.xml', 'labeled_image_data/809e84aa-00286.xml', 'labeled_image_data/8ded4e57-00326.xml', 'labeled_image_data/4f429d5f-00654.xml', 'labeled_image_data/7835ecef-00787.xml', 'labeled_image_data/a7f4fe7f-00220.xml', 'labeled_image_data/064a6c28-00699.xml', 'labeled_image_data/4416a4e4-02719.xml', 'labeled_image_data/8128712b-00176.xml', 'labeled_image_data/e0d69d88-00145.xml', 'labeled_image_data/10e99df2-07463.xml', 'labeled_image_data/8de58090-00393.xml', 'labeled_image_data/070356ac-00167.xml', 'labeled_image_data/d861274f-00752.xml', 'labeled_image_data/79bbb019-00630.xml', 'labeled_image_data/c93e3de3-00730.xml', 'labeled_image_data/d8270fd0-00398.xml', 'labeled_image_data/02f56cea-00343.xml', 'labeled_image_data/9af3c313-00517.xml', 'labeled_image_data/31600669-00435.xml', 'labeled_image_data/141252e6-00536.xml', 'labeled_image_data/8db02daf-00422.xml', 'labeled_image_data/c59ed143-00623.xml', 'labeled_image_data/268704a6-00116.xml', 'labeled_image_data/169d4821-03349.xml', 'labeled_image_data/b250431f-00245.xml', 'labeled_image_data/39e2bea6-00133.xml', 'labeled_image_data/4f36c266-00597.xml', 'labeled_image_data/3eb4da38-00551.xml', 'labeled_image_data/d6b643c1-00688.xml', 'labeled_image_data/f87ad28b-00681.xml', 'labeled_image_data/0b3e3c78-00785.xml', 'labeled_image_data/3ce68afe-00580.xml', 'labeled_image_data/dd84e1dc-00739.xml', 'labeled_image_data/41b73dd0-00307.xml', 'labeled_image_data/613ca425-00563.xml', 'labeled_image_data/c75fc3a2-00564.xml', 'labeled_image_data/f0b17504-00622.xml', 'labeled_image_data/fda54310-00474.xml', 'labeled_image_data/877265f6-00113.xml', 'labeled_image_data/add7c01b-00436.xml', 'labeled_image_data/e396a7ce-00154.xml', 'labeled_image_data/47d9f896-01748.xml', 'labeled_image_data/e4eb1ccb-00527.xml', 'labeled_image_data/9a73fde7-00446.xml', 'labeled_image_data/a3e675ae-00382.xml', 'labeled_image_data/00715a65-00663.xml', 'labeled_image_data/2a265ee2-00353.xml', 'labeled_image_data/426ee9e8-00312.xml', 'labeled_image_data/e389d388-00503.xml', 'labeled_image_data/2615b0b9-00619.xml', 'labeled_image_data/9df1476b-00547.xml', 'labeled_image_data/0cbd0f31-00413.xml', 'labeled_image_data/ab620cb4-00297.xml', 'labeled_image_data/b5296415-00275.xml', 'labeled_image_data/fd02832a-00461.xml', 'labeled_image_data/e587fd1e-00774.xml', 'labeled_image_data/91c3b944-00792.xml', 'labeled_image_data/37e1e3f6-00661.xml', 'labeled_image_data/24047665-00166.xml', 'labeled_image_data/cd4b06b0-06219.xml', 'labeled_image_data/3e393f34-00383.xml', 'labeled_image_data/a4825245-00723.xml', 'labeled_image_data/87d9fc3a-00313.xml', 'labeled_image_data/f293c945-00274.xml', 'labeled_image_data/fb8fd92e-00105.xml', 'labeled_image_data/d2e07f10-00123.xml', 'labeled_image_data/432eb3d2-00783.xml', 'labeled_image_data/64a9c052-00683.xml', 'labeled_image_data/2d858fc4-00442.xml', 'labeled_image_data/81304e71-00779.xml', 'labeled_image_data/5d1b40c0-00644.xml', 'labeled_image_data/9ef1ed35-00249.xml', 'labeled_image_data/0eec88d4-00656.xml', 'labeled_image_data/b6c9c966-00640.xml', 'labeled_image_data/e155183f-00410.xml', 'labeled_image_data/51fbc418-07675.xml', 'labeled_image_data/62b15d12-00444.xml', 'labeled_image_data/0e4ef340-00253.xml', 'labeled_image_data/7400816d-00128.xml', 'labeled_image_data/a241d4b4-00690.xml', 'labeled_image_data/a7f93b2e-00111.xml', 'labeled_image_data/1efe43cb-00233.xml', 'labeled_image_data/30de2a7d-00562.xml', 'labeled_image_data/07ba3365-00189.xml', 'labeled_image_data/a468c4e7-00260.xml', 'labeled_image_data/ed68441e-00463.xml', 'labeled_image_data/62d8bf47-00256.xml', 'labeled_image_data/31099fe5-00469.xml', 'labeled_image_data/9e6511c5-00366.xml', 'labeled_image_data/abdc8c51-00679.xml', 'labeled_image_data/0e5c88bb-00695.xml', 'labeled_image_data/ce28ece2-07661.xml', 'labeled_image_data/ea3bc208-00187.xml', 'labeled_image_data/013aaabd-00713.xml', 'labeled_image_data/8ffbd0ac-00796.xml', 'labeled_image_data/c93ba86a-00162.xml', 'labeled_image_data/7ab95e99-00124.xml', 'labeled_image_data/0b983851-02902.xml', 'labeled_image_data/6ae1bb8d-00372.xml', 'labeled_image_data/c79abd75-00602.xml', 'labeled_image_data/8849d9c7-00771.xml', 'labeled_image_data/5c4e5d21-00754.xml', 'labeled_image_data/1c91b0c5-00483.xml', 'labeled_image_data/57a930a6-00572.xml', 'labeled_image_data/f731cfb2-00419.xml', 'labeled_image_data/aa8642b5-00780.xml', 'labeled_image_data/fd0fa48b-00628.xml', 'labeled_image_data/8761b175-05710.xml', 'labeled_image_data/856f5626-00485.xml', 'labeled_image_data/818fdf7c-00466.xml', 'labeled_image_data/64dfc13f-00565.xml', 'labeled_image_data/bd84edcd-00404.xml', 'labeled_image_data/c3038852-00317.xml', 'labeled_image_data/7f33cbd9-00788.xml', 'labeled_image_data/3698d68c-00138.xml', 'labeled_image_data/b88cf439-00601.xml', 'labeled_image_data/fe095cea-00535.xml', 'labeled_image_data/a7bb8582-00262.xml', 'labeled_image_data/fcaed3d2-03639.xml', 'labeled_image_data/ac50153c-06231.xml', 'labeled_image_data/cf84ca89-00378.xml', 'labeled_image_data/33bda457-00643.xml', 'labeled_image_data/2eab66fc-06741.xml', 'labeled_image_data/ae0e8602-00392.xml', 'labeled_image_data/ab97573d-00750.xml', 'labeled_image_data/3b3f10c0-00637.xml', 'labeled_image_data/4e551c85-00283.xml', 'labeled_image_data/57f1e54a-00399.xml', 'labeled_image_data/0d789d5f-00376.xml', 'labeled_image_data/4a8a7d33-00636.xml', 'labeled_image_data/accb743c-00545.xml', 'labeled_image_data/91de58c8-00432.xml', 'labeled_image_data/9d5920fd-00385.xml', 'labeled_image_data/3fb88827-00407.xml', 'labeled_image_data/b8abb75c-00200.xml', 'labeled_image_data/8b5515c4-00625.xml', 'labeled_image_data/57815c72-00666.xml', 'labeled_image_data/9f456833-00763.xml', 'labeled_image_data/a1d671c9-00692.xml', 'labeled_image_data/4d0b938d-00770.xml', 'labeled_image_data/87e0a461-00660.xml', 'labeled_image_data/80052477-00470.xml', 'labeled_image_data/acf4daa0-00232.xml', 'labeled_image_data/60b77f49-00321.xml', 'labeled_image_data/6a6babb5-00775.xml', 'labeled_image_data/1111cb9f-00208.xml', 'labeled_image_data/f92719cc-04368.xml', 'labeled_image_data/1559f85e-00218.xml', 'labeled_image_data/4e2f2087-02043.xml', 'labeled_image_data/79511a23-00281.xml', 'labeled_image_data/e0683425-07846.xml', 'labeled_image_data/58e2c0c0-00594.xml', 'labeled_image_data/0e8d5952-00627.xml', 'labeled_image_data/4f72a02d-00296.xml', 'labeled_image_data/78c043e4-00178.xml', 'labeled_image_data/7483fb4a-00391.xml', 'labeled_image_data/90d0eaa4-00612.xml', 'labeled_image_data/ffa772ab-00729.xml', 'labeled_image_data/d5c5094b-00561.xml', 'labeled_image_data/97613bfa-00147.xml', 'labeled_image_data/4b332f33-00500.xml', 'labeled_image_data/2be31e62-00678.xml', 'labeled_image_data/eb469576-00137.xml', 'labeled_image_data/a58a69ef-00182.xml', 'labeled_image_data/927cf554-00211.xml', 'labeled_image_data/e2c9dd85-00423.xml', 'labeled_image_data/00da2330-00221.xml', 'labeled_image_data/348d45ba-00455.xml', 'labeled_image_data/d13155e4-00769.xml', 'labeled_image_data/7f16a093-00282.xml', 'labeled_image_data/a69981f7-00736.xml', 'labeled_image_data/a64e5c46-00617.xml', 'labeled_image_data/9cc0b1ee-00464.xml', 'labeled_image_data/809a3ef0-00584.xml', 'labeled_image_data/2f9d8d95-00277.xml', 'labeled_image_data/736f6304-00797.xml', 'labeled_image_data/6b7145df-00534.xml', 'labeled_image_data/c5c01ea7-00541.xml', 'labeled_image_data/cba377b2-00411.xml', 'labeled_image_data/e8e9cf5f-00675.xml', 'labeled_image_data/423ca664-00248.xml', 'labeled_image_data/67b43ade-00667.xml', 'labeled_image_data/d4faf7c2-00352.xml', 'labeled_image_data/7641688d-00498.xml', 'labeled_image_data/93f4f4f6-00448.xml', 'labeled_image_data/6a990da4-00126.xml', 'labeled_image_data/90872bc4-00479.xml', 'labeled_image_data/c051cb66-00425.xml', 'labeled_image_data/611212cc-00302.xml', 'labeled_image_data/0c57662e-00127.xml', 'labeled_image_data/8107d3f4-00753.xml', 'labeled_image_data/4632b095-00406.xml', 'labeled_image_data/f76da8e7-00387.xml', 'labeled_image_data/c1230d0c-00421.xml', 'labeled_image_data/c840765e-00427.xml', 'labeled_image_data/4ae9d127-00238.xml', 'labeled_image_data/dc1284e1-00451.xml', 'labeled_image_data/61cd3718-00190.xml', 'labeled_image_data/b5243226-00381.xml', 'labeled_image_data/2c624fc2-00722.xml', 'labeled_image_data/cc1235a7-00359.xml', 'labeled_image_data/d5cda62c-00231.xml', 'labeled_image_data/96b7fbfd-00790.xml', 'labeled_image_data/82a0f384-00761.xml', 'labeled_image_data/f884c6bb-00125.xml', 'labeled_image_data/db993090-01774.xml', 'labeled_image_data/7ca0f695-00311.xml', 'labeled_image_data/80c94919-00287.xml', 'labeled_image_data/f94364ad-00394.xml', 'labeled_image_data/1343e417-01589.xml', 'labeled_image_data/6127e80e-00185.xml', 'labeled_image_data/59f9a1ac-00616.xml', 'labeled_image_data/2a0f75c6-04397.xml', 'labeled_image_data/1662bd95-00786.xml', 'labeled_image_data/268a8142-00300.xml', 'labeled_image_data/3bc7181c-00263.xml', 'labeled_image_data/de8f5774-00543.xml', 'labeled_image_data/ca24222f-00712.xml', 'labeled_image_data/17ebf4d3-00711.xml', 'labeled_image_data/1d340e1a-00531.xml', 'labeled_image_data/6df219fb-00269.xml', 'labeled_image_data/e23dacdd-00163.xml', 'labeled_image_data/f9d08493-00217.xml', 'labeled_image_data/d2aafc69-00733.xml', 'labeled_image_data/9a1ca88a-00697.xml', 'labeled_image_data/e8ead679-06594.xml', 'labeled_image_data/a660ede4-00482.xml', 'labeled_image_data/b7b4052d-00709.xml', 'labeled_image_data/626de797-00524.xml', 'labeled_image_data/d9bf7cc0-00261.xml', 'labeled_image_data/0c582abe-04624.xml', 'labeled_image_data/6bb23125-00487.xml', 'labeled_image_data/75e0cd2f-00337.xml', 'labeled_image_data/9ab6a8a4-00168.xml', 'labeled_image_data/776eb85f-00776.xml', 'labeled_image_data/af0fe201-00351.xml', 'labeled_image_data/dcda38ba-00310.xml', 'labeled_image_data/d8dbe9cc-00223.xml', 'labeled_image_data/927f71de-03605.xml', 'labeled_image_data/0e6a50c0-00459.xml', 'labeled_image_data/9d97b25f-00615.xml', 'labeled_image_data/3b125c3e-05248.xml', 'labeled_image_data/4204fa98-00614.xml', 'labeled_image_data/abda9a5f-00738.xml', 'labeled_image_data/754aa324-00575.xml', 'labeled_image_data/ebffeee8-00386.xml', 'labeled_image_data/081a4612-00772.xml', 'labeled_image_data/b8809426-00284.xml', 'labeled_image_data/da9df6b9-00472.xml', 'labeled_image_data/e2d3cb80-00380.xml', 'labeled_image_data/162c5774-00237.xml', 'labeled_image_data/c0ffc430-00118.xml', 'labeled_image_data/beccf5dc-00566.xml', 'labeled_image_data/9a3c523f-02527.xml', 'labeled_image_data/b4d9ebac-00544.xml', 'labeled_image_data/9d0e31e0-00354.xml', 'labeled_image_data/4a855806-00390.xml', 'labeled_image_data/76e0282b-00117.xml', 'labeled_image_data/6be1057f-00289.xml', 'labeled_image_data/8828dd4a-00341.xml', 'labeled_image_data/862c3a72-07113.xml', 'labeled_image_data/8aff6c07-00191.xml', 'labeled_image_data/eab6ba85-00141.xml', 'labeled_image_data/28ff1c4f-00682.xml', 'labeled_image_data/01f94b5b-00759.xml', 'labeled_image_data/88c9ac77-00748.xml', 'labeled_image_data/847323bf-00340.xml', 'labeled_image_data/5e5c578a-00476.xml', 'labeled_image_data/26cd1862-00655.xml', 'labeled_image_data/44dba96d-00509.xml', 'labeled_image_data/afa41a82-00686.xml', 'labeled_image_data/00ebc4d8-00179.xml', 'labeled_image_data/441d3180-00447.xml', 'labeled_image_data/aa2a9290-00299.xml', 'labeled_image_data/61cc3317-00402.xml', 'labeled_image_data/c94d4ec5-00484.xml', 'labeled_image_data/cfe3a33d-00618.xml', 'labeled_image_data/5402b6a3-00268.xml', 'labeled_image_data/0af4e8f2-00314.xml', 'labeled_image_data/88e9d986-00206.xml', 'labeled_image_data/f6907cb1-07305.xml', 'labeled_image_data/38ba0fba-00236.xml', 'labeled_image_data/cf16d44c-00578.xml', 'labeled_image_data/9fb44b3b-00290.xml', 'labeled_image_data/9984cac4-00199.xml', 'labeled_image_data/2a2a569f-00330.xml', 'labeled_image_data/7175f495-00207.xml', 'labeled_image_data/d93c6705-00624.xml', 'labeled_image_data/72372995-00367.xml', 'labeled_image_data/291f0435-00757.xml', 'labeled_image_data/32d1bb73-00721.xml', 'labeled_image_data/0958fd40-00685.xml', 'labeled_image_data/282e445b-00155.xml', 'labeled_image_data/d7ac7a43-00558.xml', 'labeled_image_data/84061d89-00635.xml', 'labeled_image_data/0c26f8a1-00546.xml', 'labeled_image_data/19a427dd-00152.xml', 'labeled_image_data/78369cee-05274.xml', 'labeled_image_data/5174e3f5-00433.xml', 'labeled_image_data/10ca283a-03413.xml', 'labeled_image_data/18623aa7-00241.xml', 'labeled_image_data/c8a94cd0-00363.xml', 'labeled_image_data/78380ee9-00158.xml', 'labeled_image_data/217141d7-00718.xml', 'labeled_image_data/b053abd7-00333.xml', 'labeled_image_data/362d8b62-00598.xml', 'labeled_image_data/29188252-00672.xml', 'labeled_image_data/ee7207f3-00140.xml', 'labeled_image_data/265fb039-00431.xml', 'labeled_image_data/809245ad-06027.xml', 'labeled_image_data/8b1feb1e-01576.xml', 'labeled_image_data/7180ebdb-00161.xml', 'labeled_image_data/564542f3-03163.xml', 'labeled_image_data/616d6ca1-00477.xml', 'labeled_image_data/84d564a4-00396.xml', 'labeled_image_data/f87aa2cc-02241.xml', 'labeled_image_data/fafdb0a3-00706.xml', 'labeled_image_data/c1b54a0b-00230.xml', 'labeled_image_data/d25769a9-00611.xml', 'labeled_image_data/3729419b-00170.xml', 'labeled_image_data/136bb586-00579.xml', 'labeled_image_data/cf12a120-00104.xml', 'labeled_image_data/a9b1a014-00607.xml', 'labeled_image_data/c621f568-00159.xml', 'labeled_image_data/73876755-00251.xml', 'labeled_image_data/319302e7-00604.xml', 'labeled_image_data/14a43a63-00513.xml', 'labeled_image_data/85ad709f-00358.xml', 'labeled_image_data/7149d6e9-00368.xml', 'labeled_image_data/42bf55db-00556.xml', 'labeled_image_data/256ddb0c-00649.xml', 'labeled_image_data/e0079acd-00306.xml', 'labeled_image_data/d245f26f-00361.xml', 'labeled_image_data/ea27b052-00181.xml', 'labeled_image_data/81ac9b79-00110.xml', 'labeled_image_data/254c45fb-00516.xml', 'labeled_image_data/682a3c7c-00691.xml', 'labeled_image_data/b54c325d-00758.xml', 'labeled_image_data/11b19768-06033.xml', 'labeled_image_data/091af394-00184.xml', 'labeled_image_data/3dd508c7-00650.xml', 'labeled_image_data/d584c86b-01204.xml', 'labeled_image_data/fc7fd9e7-00590.xml', 'labeled_image_data/b2ab12d5-00327.xml', 'labeled_image_data/54796a53-00494.xml', 'labeled_image_data/01b579c6-06225.xml', 'labeled_image_data/007c1eb7-00428.xml', 'labeled_image_data/cdc4b154-00244.xml', 'labeled_image_data/f97823bd-00741.xml', 'labeled_image_data/c6bb99e0-00549.xml', 'labeled_image_data/2a608623-00323.xml', 'labeled_image_data/9e16a098-00332.xml', 'labeled_image_data/f859918e-00301.xml', 'labeled_image_data/4c59b6a3-00768.xml', 'labeled_image_data/2e11e6af-00316.xml', 'labeled_image_data/429d09ba-00177.xml', 'labeled_image_data/b0fb91a5-04156.xml', 'labeled_image_data/02a06864-00700.xml', 'labeled_image_data/4caed1dd-00235.xml', 'labeled_image_data/58e3db8b-00539.xml', 'labeled_image_data/e595a18e-00511.xml', 'labeled_image_data/13452767-00416.xml', 'labeled_image_data/5382a2a3-00778.xml', 'labeled_image_data/87f4ac88-00555.xml', 'labeled_image_data/a8cb5eff-00318.xml', 'labeled_image_data/dc17c0ae-00714.xml', 'labeled_image_data/a88801cb-00633.xml', 'labeled_image_data/5fb1a0cd-04432.xml', 'labeled_image_data/bd3ddf81-00489.xml', 'labeled_image_data/93b2f0af-00491.xml', 'labeled_image_data/bee80dbc-07852.xml', 'labeled_image_data/725c4c5e-00693.xml', 'labeled_image_data/18333378-00384.xml', 'labeled_image_data/815dbe63-06755.xml', 'labeled_image_data/2b91b7b3-00320.xml', 'labeled_image_data/6bf0d479-00613.xml', 'labeled_image_data/f5b582e2-00559.xml', 'labeled_image_data/e9006f00-00308.xml', 'labeled_image_data/c82e6a33-02731.xml', 'labeled_image_data/9b3d9a9a-00243.xml', 'labeled_image_data/473ee94e-00529.xml', 'labeled_image_data/f797e367-00331.xml', 'labeled_image_data/6710bfd2-00782.xml', 'labeled_image_data/19948748-00608.xml', 'labeled_image_data/00540c27-00659.xml', 'labeled_image_data/cc4b80ed-00276.xml', 'labeled_image_data/b04a0852-00781.xml', 'labeled_image_data/96662138-01006.xml', 'labeled_image_data/0a97a0d8-05062.xml', 'labeled_image_data/cd79400b-02057.xml', 'labeled_image_data/278d3454-00228.xml', 'labeled_image_data/39663332-00639.xml', 'labeled_image_data/030c6985-00264.xml', 'labeled_image_data/d826b4df-00132.xml', 'labeled_image_data/1fd18ff2-00708.xml', 'labeled_image_data/5301d168-01210.xml', 'labeled_image_data/aae4ddda-00418.xml', 'labeled_image_data/b2c0ba36-00150.xml', 'labeled_image_data/7d238084-00671.xml', 'labeled_image_data/0149f9f0-07107.xml', 'labeled_image_data/d3bcde50-00793.xml', 'labeled_image_data/97f1f94f-00751.xml', 'labeled_image_data/dfc74608-00148.xml', 'labeled_image_data/bcf0b349-01012.xml', 'labeled_image_data/547d5be9-00573.xml', 'labeled_image_data/cf5bb1d8-00408.xml', 'labeled_image_data/7032b2f5-00499.xml', 'labeled_image_data/35fe161c-00405.xml', 'labeled_image_data/e4a51f9a-00342.xml', 'labeled_image_data/88f2a8a4-00374.xml', 'labeled_image_data/4b3f6722-00247.xml', 'labeled_image_data/b6dcd54b-00259.xml', 'labeled_image_data/5ec3c007-00755.xml', 'labeled_image_data/e6177a53-00222.xml', 'labeled_image_data/0c1380b9-00538.xml', 'labeled_image_data/5dc01c4d-00794.xml', 'labeled_image_data/53a87474-00375.xml', 'labeled_image_data/a6a37d8b-00475.xml', 'labeled_image_data/485977db-00143.xml', 'labeled_image_data/dbb3b78e-00365.xml', 'labeled_image_data/ffca8b72-00532.xml', 'labeled_image_data/1f4e4416-00292.xml', 'labeled_image_data/c6fa787f-00568.xml', 'labeled_image_data/ef83d2f2-00362.xml', 'labeled_image_data/9198ed5d-00497.xml', 'labeled_image_data/5a179383-00303.xml', 'labeled_image_data/03f452cc-00198.xml', 'labeled_image_data/b940ad42-00379.xml', 'labeled_image_data/79e18c7a-00766.xml', 'labeled_image_data/7df53f1e-00103.xml', 'labeled_image_data/781f07d9-00201.xml', 'labeled_image_data/ab0507a9-00641.xml', 'labeled_image_data/839d1b3f-00336.xml', 'labeled_image_data/8afc6c90-01984.xml', 'labeled_image_data/b93829cf-00697.xml', 'labeled_image_data/b2437969-00465.xml', 'labeled_image_data/1fee80fb-00294.xml', 'labeled_image_data/5444191a-00731.xml', 'labeled_image_data/ea16df23-00193.xml', 'labeled_image_data/05de484d-00621.xml', 'labeled_image_data/e79ab14f-00756.xml', 'labeled_image_data/754f7d87-00346.xml', 'labeled_image_data/8b382a5f-00173.xml', 'labeled_image_data/c84d93de-00214.xml', 'labeled_image_data/41be436d-00409.xml', 'labeled_image_data/fc840485-00445.xml', 'labeled_image_data/7f24cd0e-00295.xml', 'labeled_image_data/316d2483-00605.xml', 'labeled_image_data/8bd3c8ab-00589.xml', 'labeled_image_data/1e765af7-02725.xml', 'labeled_image_data/65cc57b8-00369.xml', 'labeled_image_data/945447a1-00581.xml', 'labeled_image_data/6a43da28-00791.xml', 'labeled_image_data/c8e18830-00764.xml', 'labeled_image_data/f36baa8d-00587.xml', 'labeled_image_data/829bbfdd-00202.xml', 'labeled_image_data/8de1e5cb-00266.xml', 'labeled_image_data/18be7e66-00777.xml', 'labeled_image_data/ebfbb4b8-00194.xml', 'labeled_image_data/3a9053d9-04426.xml', 'labeled_image_data/4b75b788-00592.xml', 'labeled_image_data/403d411a-02533.xml', 'labeled_image_data/59b79701-00676.xml', 'labeled_image_data/8e4bb121-00101.xml', 'labeled_image_data/f7654440-00486.xml', 'labeled_image_data/7e141530-00454.xml', 'labeled_image_data/ecf89c47-06999.xml', 'labeled_image_data/f5d4d0b1-00540.xml', 'labeled_image_data/6fb411e8-00554.xml', 'labeled_image_data/70be104b-01562.xml', 'labeled_image_data/3f4c602d-00330.xml', 'labeled_image_data/45887345-00745.xml', 'labeled_image_data/356363b5-00651.xml', 'labeled_image_data/30d26c7a-00591.xml', 'labeled_image_data/f117ab37-00267.xml', 'labeled_image_data/4b4255d0-00457.xml', 'labeled_image_data/c381f1b7-05089.xml', 'labeled_image_data/57740129-00285.xml', 'labeled_image_data/b7be5c29-00569.xml', 'labeled_image_data/e6f6f8cb-00115.xml', 'labeled_image_data/0a7b5fe4-00165.xml', 'labeled_image_data/580a3c51-00542.xml', 'labeled_image_data/13d475c0-01990.xml', 'labeled_image_data/3397fac9-00349.xml', 'labeled_image_data/cb3656bf-00175.xml', 'labeled_image_data/539c5900-00348.xml', 'labeled_image_data/13214da7-00210.xml', 'labeled_image_data/84e203b1-00102.xml', 'labeled_image_data/41d940a3-00414.xml', 'labeled_image_data/42db55ce-00493.xml', 'labeled_image_data/41a1f633-00322.xml', 'labeled_image_data/451bac2a-00784.xml', 'labeled_image_data/0a0c594f-00734.xml', 'labeled_image_data/be2b619d-00338.xml', 'labeled_image_data/a28c8cd6-00577.xml', 'labeled_image_data/bc469d61-00673.xml', 'labeled_image_data/2d6ceeee-00647.xml', 'labeled_image_data/f00351ed-00142.xml', 'labeled_image_data/aa53e0d0-00449.xml', 'labeled_image_data/70f7f0e2-00424.xml', 'labeled_image_data/ca2003de-00687.xml', 'labeled_image_data/241970d6-00293.xml', 'labeled_image_data/9138d770-03375.xml', 'labeled_image_data/330e66e9-06580.xml', 'labeled_image_data/e88991d2-00157.xml', 'labeled_image_data/7b6ee340-00662.xml', 'labeled_image_data/c93dccbc-00160.xml', 'labeled_image_data/67e556fd-00704.xml', 'labeled_image_data/dd80a6e9-00371.xml', 'labeled_image_data/817cbd84-00725.xml', 'labeled_image_data/ca01b434-00620.xml', 'labeled_image_data/a2cb5aa2-00438.xml', 'labeled_image_data/35fbf8da-00209.xml', 'labeled_image_data/c4619ff7-00496.xml', 'labeled_image_data/a114dd1e-00291.xml', 'labeled_image_data/3a84692d-00702.xml', 'labeled_image_data/7d783415-00450.xml', 'labeled_image_data/2931ce7c-00417.xml', 'labeled_image_data/4db1e67b-04354.xml', 'labeled_image_data/61bfd979-00533.xml', 'labeled_image_data/fd165fee-00510.xml', 'labeled_image_data/0e185352-00412.xml', 'labeled_image_data/1a55db9a-00319.xml', 'labeled_image_data/6eb017c6-00373.xml', 'labeled_image_data/45f2336b-07339.xml', 'labeled_image_data/adfd0c69-00440.xml', 'labeled_image_data/1146abe9-00112.xml', 'labeled_image_data/045a204e-00434.xml', 'labeled_image_data/43224219-00442.xml', 'labeled_image_data/8edc6845-00219.xml', 'labeled_image_data/cc9f7b71-00309.xml', 'labeled_image_data/d1097a53-00197.xml', 'labeled_image_data/221dfb65-00328.xml', 'labeled_image_data/3398144d-03177.xml', 'labeled_image_data/9be41efd-05923.xml', 'labeled_image_data/d5698f92-00344.xml', 'labeled_image_data/007142dd-00420.xml', 'labeled_image_data/aa4f3ad5-07891.xml', 'labeled_image_data/a51a68c1-00429.xml', 'labeled_image_data/2c2f6b08-00632.xml', 'labeled_image_data/e5b3bf6e-00315.xml', 'labeled_image_data/8b8fa077-00270.xml', 'labeled_image_data/8b2e36d6-00898.xml', 'labeled_image_data/a947c727-00574.xml', 'labeled_image_data/fa515f5b-00707.xml', 'labeled_image_data/bf89c5b1-00203.xml', 'labeled_image_data/a30c0074-00334.xml', 'labeled_image_data/c5b53ece-00744.xml', 'labeled_image_data/076f6ecb-00525.xml', 'labeled_image_data/f2bcd36a-00377.xml']\n"
     ]
    }
   ],
   "source": [
    "# Load XML files and store them in a list\n",
    "xml_files = glob(\"labeled_image_data/*.xml\")\n",
    "print(xml_files)"
   ]
  },
  {
   "cell_type": "code",
   "execution_count": 155,
   "metadata": {},
   "outputs": [],
   "source": [
    "# Define function to read XML files, extract file name, size (width, height), and object data (name, xmin, xmax, ymin, max)\n",
    "def extract_text(filename):\n",
    "    tree = et.parse(filename)\n",
    "    root = tree.getroot()\n",
    "\n",
    "    # Get file name\n",
    "    img_name = root.find(\"filename\").text\n",
    "\n",
    "    # Get size (width and height) of an image\n",
    "    width = root.find(\"size\").find(\"width\").text\n",
    "    height = root.find(\"size\").find(\"height\").text\n",
    "\n",
    "    # Get data of object(s) within an image\n",
    "    objs = root.findall(\"object\")\n",
    "    parser = []\n",
    "\n",
    "    for obj in objs:\n",
    "        name = obj.find(\"name\").text\n",
    "        bnd_box = obj.find(\"bndbox\")\n",
    "        x_min = bnd_box.find(\"xmin\").text\n",
    "        x_max = bnd_box.find(\"xmax\").text\n",
    "        y_min = bnd_box.find(\"ymin\").text\n",
    "        y_max = bnd_box.find(\"ymax\").text\n",
    "        parser.append([img_name, width, height, name, x_min, x_max, y_min, y_max])\n",
    "\n",
    "    return parser"
   ]
  },
  {
   "cell_type": "code",
   "execution_count": 156,
   "metadata": {},
   "outputs": [],
   "source": [
    "# Extract text from all XML files and flatten the resulting list\n",
    "parser_all = list(map(extract_text, xml_files))\n",
    "obj_data = reduce(lambda x, y: x + y, parser_all)"
   ]
  },
  {
   "cell_type": "code",
   "execution_count": 157,
   "metadata": {},
   "outputs": [
    {
     "data": {
      "text/html": [
       "<div>\n",
       "<style scoped>\n",
       "    .dataframe tbody tr th:only-of-type {\n",
       "        vertical-align: middle;\n",
       "    }\n",
       "\n",
       "    .dataframe tbody tr th {\n",
       "        vertical-align: top;\n",
       "    }\n",
       "\n",
       "    .dataframe thead th {\n",
       "        text-align: right;\n",
       "    }\n",
       "</style>\n",
       "<table border=\"1\" class=\"dataframe\">\n",
       "  <thead>\n",
       "    <tr style=\"text-align: right;\">\n",
       "      <th></th>\n",
       "      <th>file_name</th>\n",
       "      <th>width</th>\n",
       "      <th>height</th>\n",
       "      <th>class</th>\n",
       "      <th>x_min</th>\n",
       "      <th>x_max</th>\n",
       "      <th>y_min</th>\n",
       "      <th>y_max</th>\n",
       "    </tr>\n",
       "  </thead>\n",
       "  <tbody>\n",
       "    <tr>\n",
       "      <th>0</th>\n",
       "      <td>157c26be-00595.jpg</td>\n",
       "      <td>640</td>\n",
       "      <td>480</td>\n",
       "      <td>Truck</td>\n",
       "      <td>95</td>\n",
       "      <td>243</td>\n",
       "      <td>180</td>\n",
       "      <td>228</td>\n",
       "    </tr>\n",
       "    <tr>\n",
       "      <th>1</th>\n",
       "      <td>157c26be-00595.jpg</td>\n",
       "      <td>640</td>\n",
       "      <td>480</td>\n",
       "      <td>Car</td>\n",
       "      <td>52</td>\n",
       "      <td>143</td>\n",
       "      <td>188</td>\n",
       "      <td>234</td>\n",
       "    </tr>\n",
       "    <tr>\n",
       "      <th>2</th>\n",
       "      <td>157c26be-00595.jpg</td>\n",
       "      <td>640</td>\n",
       "      <td>480</td>\n",
       "      <td>Car</td>\n",
       "      <td>0</td>\n",
       "      <td>57</td>\n",
       "      <td>188</td>\n",
       "      <td>219</td>\n",
       "    </tr>\n",
       "    <tr>\n",
       "      <th>3</th>\n",
       "      <td>157c26be-00595.jpg</td>\n",
       "      <td>640</td>\n",
       "      <td>480</td>\n",
       "      <td>Truck</td>\n",
       "      <td>91</td>\n",
       "      <td>581</td>\n",
       "      <td>143</td>\n",
       "      <td>413</td>\n",
       "    </tr>\n",
       "    <tr>\n",
       "      <th>4</th>\n",
       "      <td>b695b399-00439.jpg</td>\n",
       "      <td>650</td>\n",
       "      <td>434</td>\n",
       "      <td>Car</td>\n",
       "      <td>10</td>\n",
       "      <td>639</td>\n",
       "      <td>90</td>\n",
       "      <td>415</td>\n",
       "    </tr>\n",
       "    <tr>\n",
       "      <th>...</th>\n",
       "      <td>...</td>\n",
       "      <td>...</td>\n",
       "      <td>...</td>\n",
       "      <td>...</td>\n",
       "      <td>...</td>\n",
       "      <td>...</td>\n",
       "      <td>...</td>\n",
       "      <td>...</td>\n",
       "    </tr>\n",
       "    <tr>\n",
       "      <th>953</th>\n",
       "      <td>076f6ecb-00525.jpg</td>\n",
       "      <td>500</td>\n",
       "      <td>375</td>\n",
       "      <td>Car</td>\n",
       "      <td>390</td>\n",
       "      <td>433</td>\n",
       "      <td>167</td>\n",
       "      <td>196</td>\n",
       "    </tr>\n",
       "    <tr>\n",
       "      <th>954</th>\n",
       "      <td>076f6ecb-00525.jpg</td>\n",
       "      <td>500</td>\n",
       "      <td>375</td>\n",
       "      <td>Car</td>\n",
       "      <td>474</td>\n",
       "      <td>499</td>\n",
       "      <td>165</td>\n",
       "      <td>197</td>\n",
       "    </tr>\n",
       "    <tr>\n",
       "      <th>955</th>\n",
       "      <td>076f6ecb-00525.jpg</td>\n",
       "      <td>500</td>\n",
       "      <td>375</td>\n",
       "      <td>Car</td>\n",
       "      <td>102</td>\n",
       "      <td>241</td>\n",
       "      <td>167</td>\n",
       "      <td>224</td>\n",
       "    </tr>\n",
       "    <tr>\n",
       "      <th>956</th>\n",
       "      <td>076f6ecb-00525.jpg</td>\n",
       "      <td>500</td>\n",
       "      <td>375</td>\n",
       "      <td>Car</td>\n",
       "      <td>115</td>\n",
       "      <td>388</td>\n",
       "      <td>146</td>\n",
       "      <td>315</td>\n",
       "    </tr>\n",
       "    <tr>\n",
       "      <th>957</th>\n",
       "      <td>f2bcd36a-00377.jpg</td>\n",
       "      <td>640</td>\n",
       "      <td>480</td>\n",
       "      <td>Car</td>\n",
       "      <td>14</td>\n",
       "      <td>624</td>\n",
       "      <td>50</td>\n",
       "      <td>443</td>\n",
       "    </tr>\n",
       "  </tbody>\n",
       "</table>\n",
       "<p>958 rows × 8 columns</p>\n",
       "</div>"
      ],
      "text/plain": [
       "              file_name width height  class x_min x_max y_min y_max\n",
       "0    157c26be-00595.jpg   640    480  Truck    95   243   180   228\n",
       "1    157c26be-00595.jpg   640    480    Car    52   143   188   234\n",
       "2    157c26be-00595.jpg   640    480    Car     0    57   188   219\n",
       "3    157c26be-00595.jpg   640    480  Truck    91   581   143   413\n",
       "4    b695b399-00439.jpg   650    434    Car    10   639    90   415\n",
       "..                  ...   ...    ...    ...   ...   ...   ...   ...\n",
       "953  076f6ecb-00525.jpg   500    375    Car   390   433   167   196\n",
       "954  076f6ecb-00525.jpg   500    375    Car   474   499   165   197\n",
       "955  076f6ecb-00525.jpg   500    375    Car   102   241   167   224\n",
       "956  076f6ecb-00525.jpg   500    375    Car   115   388   146   315\n",
       "957  f2bcd36a-00377.jpg   640    480    Car    14   624    50   443\n",
       "\n",
       "[958 rows x 8 columns]"
      ]
     },
     "execution_count": 157,
     "metadata": {},
     "output_type": "execute_result"
    }
   ],
   "source": [
    "# Create the DataFrame, with each entry being a labeled object in an image\n",
    "df = pd.DataFrame(obj_data, columns = [\"file_name\", \"width\", \"height\", \"class\", \"x_min\", \"x_max\", \"y_min\", \"y_max\"])\n",
    "df"
   ]
  },
  {
   "cell_type": "code",
   "execution_count": 158,
   "metadata": {},
   "outputs": [],
   "source": [
    "# Clean the file_name column\n",
    "def clean_filename(filename):\n",
    "    return filename.split(\"-\")[-1]\n",
    "\n",
    "df[\"file_name\"] = df[\"file_name\"].apply(clean_filename)"
   ]
  },
  {
   "cell_type": "code",
   "execution_count": 159,
   "metadata": {},
   "outputs": [
    {
     "data": {
      "text/plain": [
       "class\n",
       "Car             740\n",
       "Person          129\n",
       "Truck            75\n",
       "TrafficLight     10\n",
       "TrafficSign       4\n",
       "Name: count, dtype: int64"
      ]
     },
     "execution_count": 159,
     "metadata": {},
     "output_type": "execute_result"
    }
   ],
   "source": [
    "df[\"class\"].value_counts()"
   ]
  },
  {
   "cell_type": "code",
   "execution_count": 160,
   "metadata": {},
   "outputs": [
    {
     "name": "stdout",
     "output_type": "stream",
     "text": [
      "<class 'pandas.core.frame.DataFrame'>\n",
      "RangeIndex: 958 entries, 0 to 957\n",
      "Data columns (total 8 columns):\n",
      " #   Column     Non-Null Count  Dtype \n",
      "---  ------     --------------  ----- \n",
      " 0   file_name  958 non-null    object\n",
      " 1   width      958 non-null    object\n",
      " 2   height     958 non-null    object\n",
      " 3   class      958 non-null    object\n",
      " 4   x_min      958 non-null    object\n",
      " 5   x_max      958 non-null    object\n",
      " 6   y_min      958 non-null    object\n",
      " 7   y_max      958 non-null    object\n",
      "dtypes: object(8)\n",
      "memory usage: 60.0+ KB\n"
     ]
    }
   ],
   "source": [
    "df.info()"
   ]
  },
  {
   "cell_type": "code",
   "execution_count": 161,
   "metadata": {},
   "outputs": [
    {
     "name": "stdout",
     "output_type": "stream",
     "text": [
      "<class 'pandas.core.frame.DataFrame'>\n",
      "RangeIndex: 958 entries, 0 to 957\n",
      "Data columns (total 8 columns):\n",
      " #   Column     Non-Null Count  Dtype \n",
      "---  ------     --------------  ----- \n",
      " 0   file_name  958 non-null    object\n",
      " 1   width      958 non-null    int64 \n",
      " 2   height     958 non-null    int64 \n",
      " 3   class      958 non-null    object\n",
      " 4   x_min      958 non-null    int64 \n",
      " 5   x_max      958 non-null    int64 \n",
      " 6   y_min      958 non-null    int64 \n",
      " 7   y_max      958 non-null    int64 \n",
      "dtypes: int64(6), object(2)\n",
      "memory usage: 60.0+ KB\n"
     ]
    }
   ],
   "source": [
    "# Convert types of width, height, x_min, x_max, y_min, y_max from object to integer\n",
    "cols = [\"width\", \"height\", \"x_min\", \"x_max\", \"y_min\", \"y_max\"]\n",
    "df[cols] = df[cols].astype(int)\n",
    "df.info()"
   ]
  },
  {
   "cell_type": "code",
   "execution_count": 162,
   "metadata": {},
   "outputs": [],
   "source": [
    "# Prepare columns for YOLO object detection\n",
    "# Get center x and center y\n",
    "df[\"center_x\"] = ((df[\"x_min\"] + df[\"x_max\"]) / 2) / df[\"width\"]\n",
    "df[\"center_y\"] = ((df[\"y_min\"] + df[\"y_max\"]) / 2) / df[\"height\"]\n",
    "\n",
    "# Get normalized width and height\n",
    "df[\"w\"] = (df[\"x_max\"] - df[\"x_min\"]) / df[\"width\"]\n",
    "df[\"h\"] = (df[\"y_max\"] - df[\"y_min\"]) / df[\"height\"]"
   ]
  },
  {
   "cell_type": "code",
   "execution_count": 163,
   "metadata": {},
   "outputs": [
    {
     "data": {
      "text/html": [
       "<div>\n",
       "<style scoped>\n",
       "    .dataframe tbody tr th:only-of-type {\n",
       "        vertical-align: middle;\n",
       "    }\n",
       "\n",
       "    .dataframe tbody tr th {\n",
       "        vertical-align: top;\n",
       "    }\n",
       "\n",
       "    .dataframe thead th {\n",
       "        text-align: right;\n",
       "    }\n",
       "</style>\n",
       "<table border=\"1\" class=\"dataframe\">\n",
       "  <thead>\n",
       "    <tr style=\"text-align: right;\">\n",
       "      <th></th>\n",
       "      <th>file_name</th>\n",
       "      <th>width</th>\n",
       "      <th>height</th>\n",
       "      <th>class</th>\n",
       "      <th>x_min</th>\n",
       "      <th>x_max</th>\n",
       "      <th>y_min</th>\n",
       "      <th>y_max</th>\n",
       "      <th>center_x</th>\n",
       "      <th>center_y</th>\n",
       "      <th>w</th>\n",
       "      <th>h</th>\n",
       "    </tr>\n",
       "  </thead>\n",
       "  <tbody>\n",
       "    <tr>\n",
       "      <th>0</th>\n",
       "      <td>00595.jpg</td>\n",
       "      <td>640</td>\n",
       "      <td>480</td>\n",
       "      <td>Truck</td>\n",
       "      <td>95</td>\n",
       "      <td>243</td>\n",
       "      <td>180</td>\n",
       "      <td>228</td>\n",
       "      <td>0.264062</td>\n",
       "      <td>0.425000</td>\n",
       "      <td>0.231250</td>\n",
       "      <td>0.100000</td>\n",
       "    </tr>\n",
       "    <tr>\n",
       "      <th>1</th>\n",
       "      <td>00595.jpg</td>\n",
       "      <td>640</td>\n",
       "      <td>480</td>\n",
       "      <td>Car</td>\n",
       "      <td>52</td>\n",
       "      <td>143</td>\n",
       "      <td>188</td>\n",
       "      <td>234</td>\n",
       "      <td>0.152344</td>\n",
       "      <td>0.439583</td>\n",
       "      <td>0.142187</td>\n",
       "      <td>0.095833</td>\n",
       "    </tr>\n",
       "    <tr>\n",
       "      <th>2</th>\n",
       "      <td>00595.jpg</td>\n",
       "      <td>640</td>\n",
       "      <td>480</td>\n",
       "      <td>Car</td>\n",
       "      <td>0</td>\n",
       "      <td>57</td>\n",
       "      <td>188</td>\n",
       "      <td>219</td>\n",
       "      <td>0.044531</td>\n",
       "      <td>0.423958</td>\n",
       "      <td>0.089063</td>\n",
       "      <td>0.064583</td>\n",
       "    </tr>\n",
       "    <tr>\n",
       "      <th>3</th>\n",
       "      <td>00595.jpg</td>\n",
       "      <td>640</td>\n",
       "      <td>480</td>\n",
       "      <td>Truck</td>\n",
       "      <td>91</td>\n",
       "      <td>581</td>\n",
       "      <td>143</td>\n",
       "      <td>413</td>\n",
       "      <td>0.525000</td>\n",
       "      <td>0.579167</td>\n",
       "      <td>0.765625</td>\n",
       "      <td>0.562500</td>\n",
       "    </tr>\n",
       "    <tr>\n",
       "      <th>4</th>\n",
       "      <td>00439.jpg</td>\n",
       "      <td>650</td>\n",
       "      <td>434</td>\n",
       "      <td>Car</td>\n",
       "      <td>10</td>\n",
       "      <td>639</td>\n",
       "      <td>90</td>\n",
       "      <td>415</td>\n",
       "      <td>0.499231</td>\n",
       "      <td>0.581797</td>\n",
       "      <td>0.967692</td>\n",
       "      <td>0.748848</td>\n",
       "    </tr>\n",
       "  </tbody>\n",
       "</table>\n",
       "</div>"
      ],
      "text/plain": [
       "   file_name  width  height  class  x_min  x_max  y_min  y_max  center_x  \\\n",
       "0  00595.jpg    640     480  Truck     95    243    180    228  0.264062   \n",
       "1  00595.jpg    640     480    Car     52    143    188    234  0.152344   \n",
       "2  00595.jpg    640     480    Car      0     57    188    219  0.044531   \n",
       "3  00595.jpg    640     480  Truck     91    581    143    413  0.525000   \n",
       "4  00439.jpg    650     434    Car     10    639     90    415  0.499231   \n",
       "\n",
       "   center_y         w         h  \n",
       "0  0.425000  0.231250  0.100000  \n",
       "1  0.439583  0.142187  0.095833  \n",
       "2  0.423958  0.089063  0.064583  \n",
       "3  0.579167  0.765625  0.562500  \n",
       "4  0.581797  0.967692  0.748848  "
      ]
     },
     "execution_count": 163,
     "metadata": {},
     "output_type": "execute_result"
    }
   ],
   "source": [
    "df.head()"
   ]
  },
  {
   "cell_type": "markdown",
   "metadata": {},
   "source": [
    "### Split data into train and test data"
   ]
  },
  {
   "cell_type": "code",
   "execution_count": 164,
   "metadata": {},
   "outputs": [
    {
     "data": {
      "text/plain": [
       "631"
      ]
     },
     "execution_count": 164,
     "metadata": {},
     "output_type": "execute_result"
    }
   ],
   "source": [
    "images = df[\"file_name\"].unique()\n",
    "len(images)"
   ]
  },
  {
   "cell_type": "code",
   "execution_count": 165,
   "metadata": {},
   "outputs": [],
   "source": [
    "# Split data into 80% and 20% test\n",
    "img_df = pd.DataFrame(images, columns=[\"file_name\"])\n",
    "\n",
    "# Shuffle data and choose 80% of our total amount of images for train\n",
    "img_train = tuple(img_df.sample(frac=0.80)[\"file_name\"])\n",
    "\n",
    "# Choose remaining 20% of images for test\n",
    "img_test = tuple(img_df.query(f\"file_name not in {img_train}\")[\"file_name\"])"
   ]
  },
  {
   "cell_type": "code",
   "execution_count": 166,
   "metadata": {},
   "outputs": [],
   "source": [
    "# Create train and test DataFrames\n",
    "train_df = df.query(f\"file_name in {img_train}\")\n",
    "test_df = df.query(f\"file_name in {img_test}\")"
   ]
  },
  {
   "cell_type": "code",
   "execution_count": 167,
   "metadata": {},
   "outputs": [
    {
     "data": {
      "text/html": [
       "<div>\n",
       "<style scoped>\n",
       "    .dataframe tbody tr th:only-of-type {\n",
       "        vertical-align: middle;\n",
       "    }\n",
       "\n",
       "    .dataframe tbody tr th {\n",
       "        vertical-align: top;\n",
       "    }\n",
       "\n",
       "    .dataframe thead th {\n",
       "        text-align: right;\n",
       "    }\n",
       "</style>\n",
       "<table border=\"1\" class=\"dataframe\">\n",
       "  <thead>\n",
       "    <tr style=\"text-align: right;\">\n",
       "      <th></th>\n",
       "      <th>file_name</th>\n",
       "      <th>width</th>\n",
       "      <th>height</th>\n",
       "      <th>class</th>\n",
       "      <th>x_min</th>\n",
       "      <th>x_max</th>\n",
       "      <th>y_min</th>\n",
       "      <th>y_max</th>\n",
       "      <th>center_x</th>\n",
       "      <th>center_y</th>\n",
       "      <th>w</th>\n",
       "      <th>h</th>\n",
       "    </tr>\n",
       "  </thead>\n",
       "  <tbody>\n",
       "    <tr>\n",
       "      <th>0</th>\n",
       "      <td>00595.jpg</td>\n",
       "      <td>640</td>\n",
       "      <td>480</td>\n",
       "      <td>Truck</td>\n",
       "      <td>95</td>\n",
       "      <td>243</td>\n",
       "      <td>180</td>\n",
       "      <td>228</td>\n",
       "      <td>0.264062</td>\n",
       "      <td>0.425000</td>\n",
       "      <td>0.231250</td>\n",
       "      <td>0.100000</td>\n",
       "    </tr>\n",
       "    <tr>\n",
       "      <th>1</th>\n",
       "      <td>00595.jpg</td>\n",
       "      <td>640</td>\n",
       "      <td>480</td>\n",
       "      <td>Car</td>\n",
       "      <td>52</td>\n",
       "      <td>143</td>\n",
       "      <td>188</td>\n",
       "      <td>234</td>\n",
       "      <td>0.152344</td>\n",
       "      <td>0.439583</td>\n",
       "      <td>0.142187</td>\n",
       "      <td>0.095833</td>\n",
       "    </tr>\n",
       "    <tr>\n",
       "      <th>2</th>\n",
       "      <td>00595.jpg</td>\n",
       "      <td>640</td>\n",
       "      <td>480</td>\n",
       "      <td>Car</td>\n",
       "      <td>0</td>\n",
       "      <td>57</td>\n",
       "      <td>188</td>\n",
       "      <td>219</td>\n",
       "      <td>0.044531</td>\n",
       "      <td>0.423958</td>\n",
       "      <td>0.089063</td>\n",
       "      <td>0.064583</td>\n",
       "    </tr>\n",
       "    <tr>\n",
       "      <th>3</th>\n",
       "      <td>00595.jpg</td>\n",
       "      <td>640</td>\n",
       "      <td>480</td>\n",
       "      <td>Truck</td>\n",
       "      <td>91</td>\n",
       "      <td>581</td>\n",
       "      <td>143</td>\n",
       "      <td>413</td>\n",
       "      <td>0.525000</td>\n",
       "      <td>0.579167</td>\n",
       "      <td>0.765625</td>\n",
       "      <td>0.562500</td>\n",
       "    </tr>\n",
       "    <tr>\n",
       "      <th>4</th>\n",
       "      <td>00439.jpg</td>\n",
       "      <td>650</td>\n",
       "      <td>434</td>\n",
       "      <td>Car</td>\n",
       "      <td>10</td>\n",
       "      <td>639</td>\n",
       "      <td>90</td>\n",
       "      <td>415</td>\n",
       "      <td>0.499231</td>\n",
       "      <td>0.581797</td>\n",
       "      <td>0.967692</td>\n",
       "      <td>0.748848</td>\n",
       "    </tr>\n",
       "  </tbody>\n",
       "</table>\n",
       "</div>"
      ],
      "text/plain": [
       "   file_name  width  height  class  x_min  x_max  y_min  y_max  center_x  \\\n",
       "0  00595.jpg    640     480  Truck     95    243    180    228  0.264062   \n",
       "1  00595.jpg    640     480    Car     52    143    188    234  0.152344   \n",
       "2  00595.jpg    640     480    Car      0     57    188    219  0.044531   \n",
       "3  00595.jpg    640     480  Truck     91    581    143    413  0.525000   \n",
       "4  00439.jpg    650     434    Car     10    639     90    415  0.499231   \n",
       "\n",
       "   center_y         w         h  \n",
       "0  0.425000  0.231250  0.100000  \n",
       "1  0.439583  0.142187  0.095833  \n",
       "2  0.423958  0.089063  0.064583  \n",
       "3  0.579167  0.765625  0.562500  \n",
       "4  0.581797  0.967692  0.748848  "
      ]
     },
     "execution_count": 167,
     "metadata": {},
     "output_type": "execute_result"
    }
   ],
   "source": [
    "train_df.head()"
   ]
  },
  {
   "cell_type": "code",
   "execution_count": 168,
   "metadata": {},
   "outputs": [
    {
     "data": {
      "text/html": [
       "<div>\n",
       "<style scoped>\n",
       "    .dataframe tbody tr th:only-of-type {\n",
       "        vertical-align: middle;\n",
       "    }\n",
       "\n",
       "    .dataframe tbody tr th {\n",
       "        vertical-align: top;\n",
       "    }\n",
       "\n",
       "    .dataframe thead th {\n",
       "        text-align: right;\n",
       "    }\n",
       "</style>\n",
       "<table border=\"1\" class=\"dataframe\">\n",
       "  <thead>\n",
       "    <tr style=\"text-align: right;\">\n",
       "      <th></th>\n",
       "      <th>file_name</th>\n",
       "      <th>width</th>\n",
       "      <th>height</th>\n",
       "      <th>class</th>\n",
       "      <th>x_min</th>\n",
       "      <th>x_max</th>\n",
       "      <th>y_min</th>\n",
       "      <th>y_max</th>\n",
       "      <th>center_x</th>\n",
       "      <th>center_y</th>\n",
       "      <th>w</th>\n",
       "      <th>h</th>\n",
       "    </tr>\n",
       "  </thead>\n",
       "  <tbody>\n",
       "    <tr>\n",
       "      <th>5</th>\n",
       "      <td>00747.jpg</td>\n",
       "      <td>939</td>\n",
       "      <td>704</td>\n",
       "      <td>Car</td>\n",
       "      <td>206</td>\n",
       "      <td>763</td>\n",
       "      <td>306</td>\n",
       "      <td>558</td>\n",
       "      <td>0.515974</td>\n",
       "      <td>0.613636</td>\n",
       "      <td>0.593184</td>\n",
       "      <td>0.357955</td>\n",
       "    </tr>\n",
       "    <tr>\n",
       "      <th>6</th>\n",
       "      <td>00279.jpg</td>\n",
       "      <td>576</td>\n",
       "      <td>352</td>\n",
       "      <td>Car</td>\n",
       "      <td>14</td>\n",
       "      <td>555</td>\n",
       "      <td>51</td>\n",
       "      <td>297</td>\n",
       "      <td>0.493924</td>\n",
       "      <td>0.494318</td>\n",
       "      <td>0.939236</td>\n",
       "      <td>0.698864</td>\n",
       "    </tr>\n",
       "    <tr>\n",
       "      <th>13</th>\n",
       "      <td>00234.jpg</td>\n",
       "      <td>1504</td>\n",
       "      <td>1000</td>\n",
       "      <td>Car</td>\n",
       "      <td>101</td>\n",
       "      <td>1204</td>\n",
       "      <td>364</td>\n",
       "      <td>930</td>\n",
       "      <td>0.433843</td>\n",
       "      <td>0.647000</td>\n",
       "      <td>0.733378</td>\n",
       "      <td>0.566000</td>\n",
       "    </tr>\n",
       "    <tr>\n",
       "      <th>21</th>\n",
       "      <td>00453.jpg</td>\n",
       "      <td>424</td>\n",
       "      <td>360</td>\n",
       "      <td>Truck</td>\n",
       "      <td>72</td>\n",
       "      <td>152</td>\n",
       "      <td>105</td>\n",
       "      <td>144</td>\n",
       "      <td>0.264151</td>\n",
       "      <td>0.345833</td>\n",
       "      <td>0.188679</td>\n",
       "      <td>0.108333</td>\n",
       "    </tr>\n",
       "    <tr>\n",
       "      <th>22</th>\n",
       "      <td>00453.jpg</td>\n",
       "      <td>424</td>\n",
       "      <td>360</td>\n",
       "      <td>Car</td>\n",
       "      <td>381</td>\n",
       "      <td>423</td>\n",
       "      <td>118</td>\n",
       "      <td>169</td>\n",
       "      <td>0.948113</td>\n",
       "      <td>0.398611</td>\n",
       "      <td>0.099057</td>\n",
       "      <td>0.141667</td>\n",
       "    </tr>\n",
       "  </tbody>\n",
       "</table>\n",
       "</div>"
      ],
      "text/plain": [
       "    file_name  width  height  class  x_min  x_max  y_min  y_max  center_x  \\\n",
       "5   00747.jpg    939     704    Car    206    763    306    558  0.515974   \n",
       "6   00279.jpg    576     352    Car     14    555     51    297  0.493924   \n",
       "13  00234.jpg   1504    1000    Car    101   1204    364    930  0.433843   \n",
       "21  00453.jpg    424     360  Truck     72    152    105    144  0.264151   \n",
       "22  00453.jpg    424     360    Car    381    423    118    169  0.948113   \n",
       "\n",
       "    center_y         w         h  \n",
       "5   0.613636  0.593184  0.357955  \n",
       "6   0.494318  0.939236  0.698864  \n",
       "13  0.647000  0.733378  0.566000  \n",
       "21  0.345833  0.188679  0.108333  \n",
       "22  0.398611  0.099057  0.141667  "
      ]
     },
     "execution_count": 168,
     "metadata": {},
     "output_type": "execute_result"
    }
   ],
   "source": [
    "test_df.head()"
   ]
  },
  {
   "cell_type": "markdown",
   "metadata": {},
   "source": [
    "### Label Encoding"
   ]
  },
  {
   "cell_type": "code",
   "execution_count": 169,
   "metadata": {},
   "outputs": [
    {
     "data": {
      "text/plain": [
       "2"
      ]
     },
     "execution_count": 169,
     "metadata": {},
     "output_type": "execute_result"
    }
   ],
   "source": [
    "# Create a \"labels\" dictionary, with each unique class having its own ID\n",
    "classes = df[\"class\"].unique()\n",
    "labels = {}\n",
    "\n",
    "for i in range(len(classes)):\n",
    "    labels[classes[i]] = i\n",
    "\n",
    "# Function to get the ID of a specific object\n",
    "def label_encoding(obj):\n",
    "    return labels[obj]\n",
    "\n",
    "label_encoding(\"Person\")"
   ]
  },
  {
   "cell_type": "code",
   "execution_count": 170,
   "metadata": {},
   "outputs": [
    {
     "name": "stderr",
     "output_type": "stream",
     "text": [
      "/var/folders/vl/j_pzn57166j5zt93cvnb9p240000gn/T/ipykernel_94237/3077997339.py:1: SettingWithCopyWarning: \n",
      "A value is trying to be set on a copy of a slice from a DataFrame.\n",
      "Try using .loc[row_indexer,col_indexer] = value instead\n",
      "\n",
      "See the caveats in the documentation: https://pandas.pydata.org/pandas-docs/stable/user_guide/indexing.html#returning-a-view-versus-a-copy\n",
      "  train_df[\"id\"] = train_df[\"class\"].apply(label_encoding)\n",
      "/var/folders/vl/j_pzn57166j5zt93cvnb9p240000gn/T/ipykernel_94237/3077997339.py:2: SettingWithCopyWarning: \n",
      "A value is trying to be set on a copy of a slice from a DataFrame.\n",
      "Try using .loc[row_indexer,col_indexer] = value instead\n",
      "\n",
      "See the caveats in the documentation: https://pandas.pydata.org/pandas-docs/stable/user_guide/indexing.html#returning-a-view-versus-a-copy\n",
      "  test_df[\"id\"] = test_df[\"class\"].apply(label_encoding)\n"
     ]
    }
   ],
   "source": [
    "train_df[\"id\"] = train_df[\"class\"].apply(label_encoding)\n",
    "test_df[\"id\"] = test_df[\"class\"].apply(label_encoding)"
   ]
  },
  {
   "cell_type": "code",
   "execution_count": 171,
   "metadata": {},
   "outputs": [
    {
     "data": {
      "text/html": [
       "<div>\n",
       "<style scoped>\n",
       "    .dataframe tbody tr th:only-of-type {\n",
       "        vertical-align: middle;\n",
       "    }\n",
       "\n",
       "    .dataframe tbody tr th {\n",
       "        vertical-align: top;\n",
       "    }\n",
       "\n",
       "    .dataframe thead th {\n",
       "        text-align: right;\n",
       "    }\n",
       "</style>\n",
       "<table border=\"1\" class=\"dataframe\">\n",
       "  <thead>\n",
       "    <tr style=\"text-align: right;\">\n",
       "      <th></th>\n",
       "      <th>file_name</th>\n",
       "      <th>width</th>\n",
       "      <th>height</th>\n",
       "      <th>class</th>\n",
       "      <th>x_min</th>\n",
       "      <th>x_max</th>\n",
       "      <th>y_min</th>\n",
       "      <th>y_max</th>\n",
       "      <th>center_x</th>\n",
       "      <th>center_y</th>\n",
       "      <th>w</th>\n",
       "      <th>h</th>\n",
       "      <th>id</th>\n",
       "    </tr>\n",
       "  </thead>\n",
       "  <tbody>\n",
       "    <tr>\n",
       "      <th>0</th>\n",
       "      <td>00595.jpg</td>\n",
       "      <td>640</td>\n",
       "      <td>480</td>\n",
       "      <td>Truck</td>\n",
       "      <td>95</td>\n",
       "      <td>243</td>\n",
       "      <td>180</td>\n",
       "      <td>228</td>\n",
       "      <td>0.264062</td>\n",
       "      <td>0.425000</td>\n",
       "      <td>0.231250</td>\n",
       "      <td>0.100000</td>\n",
       "      <td>0</td>\n",
       "    </tr>\n",
       "    <tr>\n",
       "      <th>1</th>\n",
       "      <td>00595.jpg</td>\n",
       "      <td>640</td>\n",
       "      <td>480</td>\n",
       "      <td>Car</td>\n",
       "      <td>52</td>\n",
       "      <td>143</td>\n",
       "      <td>188</td>\n",
       "      <td>234</td>\n",
       "      <td>0.152344</td>\n",
       "      <td>0.439583</td>\n",
       "      <td>0.142187</td>\n",
       "      <td>0.095833</td>\n",
       "      <td>1</td>\n",
       "    </tr>\n",
       "    <tr>\n",
       "      <th>2</th>\n",
       "      <td>00595.jpg</td>\n",
       "      <td>640</td>\n",
       "      <td>480</td>\n",
       "      <td>Car</td>\n",
       "      <td>0</td>\n",
       "      <td>57</td>\n",
       "      <td>188</td>\n",
       "      <td>219</td>\n",
       "      <td>0.044531</td>\n",
       "      <td>0.423958</td>\n",
       "      <td>0.089063</td>\n",
       "      <td>0.064583</td>\n",
       "      <td>1</td>\n",
       "    </tr>\n",
       "    <tr>\n",
       "      <th>3</th>\n",
       "      <td>00595.jpg</td>\n",
       "      <td>640</td>\n",
       "      <td>480</td>\n",
       "      <td>Truck</td>\n",
       "      <td>91</td>\n",
       "      <td>581</td>\n",
       "      <td>143</td>\n",
       "      <td>413</td>\n",
       "      <td>0.525000</td>\n",
       "      <td>0.579167</td>\n",
       "      <td>0.765625</td>\n",
       "      <td>0.562500</td>\n",
       "      <td>0</td>\n",
       "    </tr>\n",
       "    <tr>\n",
       "      <th>4</th>\n",
       "      <td>00439.jpg</td>\n",
       "      <td>650</td>\n",
       "      <td>434</td>\n",
       "      <td>Car</td>\n",
       "      <td>10</td>\n",
       "      <td>639</td>\n",
       "      <td>90</td>\n",
       "      <td>415</td>\n",
       "      <td>0.499231</td>\n",
       "      <td>0.581797</td>\n",
       "      <td>0.967692</td>\n",
       "      <td>0.748848</td>\n",
       "      <td>1</td>\n",
       "    </tr>\n",
       "  </tbody>\n",
       "</table>\n",
       "</div>"
      ],
      "text/plain": [
       "   file_name  width  height  class  x_min  x_max  y_min  y_max  center_x  \\\n",
       "0  00595.jpg    640     480  Truck     95    243    180    228  0.264062   \n",
       "1  00595.jpg    640     480    Car     52    143    188    234  0.152344   \n",
       "2  00595.jpg    640     480    Car      0     57    188    219  0.044531   \n",
       "3  00595.jpg    640     480  Truck     91    581    143    413  0.525000   \n",
       "4  00439.jpg    650     434    Car     10    639     90    415  0.499231   \n",
       "\n",
       "   center_y         w         h  id  \n",
       "0  0.425000  0.231250  0.100000   0  \n",
       "1  0.439583  0.142187  0.095833   1  \n",
       "2  0.423958  0.089063  0.064583   1  \n",
       "3  0.579167  0.765625  0.562500   0  \n",
       "4  0.581797  0.967692  0.748848   1  "
      ]
     },
     "execution_count": 171,
     "metadata": {},
     "output_type": "execute_result"
    }
   ],
   "source": [
    "train_df.head()"
   ]
  },
  {
   "cell_type": "markdown",
   "metadata": {},
   "source": [
    "### Save Images and Labels in Text"
   ]
  },
  {
   "cell_type": "code",
   "execution_count": 172,
   "metadata": {},
   "outputs": [],
   "source": [
    "train_folder = \"image_data/train\"\n",
    "test_folder = \"image_data/test\"\n",
    "\n",
    "os.mkdir(train_folder)\n",
    "os.mkdir(test_folder)"
   ]
  },
  {
   "cell_type": "code",
   "execution_count": 173,
   "metadata": {},
   "outputs": [],
   "source": [
    "cols = [\"file_name\", \"id\", \"center_x\", \"center_y\", \"w\", \"h\"]\n",
    "groupby_obj_train = train_df[cols].groupby(\"file_name\")\n",
    "groupby_obj_test = test_df[cols].groupby(\"file_name\")"
   ]
  },
  {
   "cell_type": "code",
   "execution_count": 185,
   "metadata": {},
   "outputs": [],
   "source": [
    "# Save each image in the train or test folder, and save respective labels in a text document\n",
    "def save_data(filename, folder_path, group_obj):\n",
    "    # Move image\n",
    "    src = os.path.join(\"image_data\", filename)\n",
    "    dst = os.path.join(folder_path, filename)\n",
    "    move(src, dst) # Move image from the source folder to the destination folder\n",
    "\n",
    "    # Save the labels\n",
    "    text_filename = os.path.join(folder_path, os.path.splitext(filename)[0] + \".txt\")\n",
    "    group_obj.get_group(filename).set_index(\"file_name\").to_csv(text_filename, sep=\" \", index=False, header=False)"
   ]
  },
  {
   "cell_type": "code",
   "execution_count": 191,
   "metadata": {},
   "outputs": [],
   "source": [
    "filename_series = pd.Series(groupby_obj_train.groups.keys())"
   ]
  },
  {
   "cell_type": "code",
   "execution_count": 193,
   "metadata": {},
   "outputs": [
    {
     "data": {
      "text/plain": [
       "0      None\n",
       "1      None\n",
       "2      None\n",
       "3      None\n",
       "4      None\n",
       "       ... \n",
       "500    None\n",
       "501    None\n",
       "502    None\n",
       "503    None\n",
       "504    None\n",
       "Length: 505, dtype: object"
      ]
     },
     "execution_count": 193,
     "metadata": {},
     "output_type": "execute_result"
    }
   ],
   "source": [
    "filename_series.apply(save_data, args=(train_folder, groupby_obj_train))"
   ]
  },
  {
   "cell_type": "code",
   "execution_count": 194,
   "metadata": {},
   "outputs": [
    {
     "data": {
      "text/plain": [
       "0      None\n",
       "1      None\n",
       "2      None\n",
       "3      None\n",
       "4      None\n",
       "       ... \n",
       "121    None\n",
       "122    None\n",
       "123    None\n",
       "124    None\n",
       "125    None\n",
       "Length: 126, dtype: object"
      ]
     },
     "execution_count": 194,
     "metadata": {},
     "output_type": "execute_result"
    }
   ],
   "source": [
    "filename_series_test = pd.Series(groupby_obj_test.groups.keys())\n",
    "filename_series_test.apply(save_data, args=(test_folder, groupby_obj_test))"
   ]
  },
  {
   "cell_type": "markdown",
   "metadata": {},
   "source": [
    "### Data Preparation Done!"
   ]
  },
  {
   "cell_type": "code",
   "execution_count": 196,
   "metadata": {},
   "outputs": [
    {
     "data": {
      "text/plain": [
       "['Truck', 'Car', 'Person', 'TrafficLight', 'TrafficSign']"
      ]
     },
     "execution_count": 196,
     "metadata": {},
     "output_type": "execute_result"
    }
   ],
   "source": [
    "# Check class order\n",
    "classes = df[\"class\"].unique()\n",
    "labels = {}\n",
    "\n",
    "for i in range(len(classes)):\n",
    "    labels[classes[i]] = i\n",
    "\n",
    "list(labels.keys())"
   ]
  },
  {
   "cell_type": "code",
   "execution_count": null,
   "metadata": {},
   "outputs": [],
   "source": []
  }
 ],
 "metadata": {
  "kernelspec": {
   "display_name": "Python 3",
   "language": "python",
   "name": "python3"
  },
  "language_info": {
   "codemirror_mode": {
    "name": "ipython",
    "version": 3
   },
   "file_extension": ".py",
   "mimetype": "text/x-python",
   "name": "python",
   "nbconvert_exporter": "python",
   "pygments_lexer": "ipython3",
   "version": "3.11.5"
  }
 },
 "nbformat": 4,
 "nbformat_minor": 2
}
